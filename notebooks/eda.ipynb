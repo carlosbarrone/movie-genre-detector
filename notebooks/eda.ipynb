{
 "cells": [
  {
   "cell_type": "code",
   "outputs": [
    {
     "name": "stderr",
     "output_type": "stream",
     "text": [
      "/Users/carlos_barron/Documents/projects/sagemaker_projects/movie-genre-detector/requirements/exploration/.venv/lib/python3.12/site-packages/sentence_transformers/cross_encoder/CrossEncoder.py:13: TqdmExperimentalWarning: Using `tqdm.autonotebook.tqdm` in notebook mode. Use `tqdm.tqdm` instead to force console mode (e.g. in jupyter console)\n",
      "  from tqdm.autonotebook import tqdm, trange\n"
     ]
    },
    {
     "name": "stdout",
     "output_type": "stream",
     "text": [
      "input_dim: 384 num_labels: 25\n",
      "Epoch [1/100], Loss: 0.2332, Validation Loss: 0.2143, F1: 0.39776080084299265, Compound Score: 0.6106388794384174\n",
      "Epoch [2/100], Loss: 0.2109, Validation Loss: 0.2106, F1: 0.4176238145416228, Compound Score: 0.6218455744087148\n",
      "Epoch [3/100], Loss: 0.2075, Validation Loss: 0.2100, F1: 0.4307642129559938, Compound Score: 0.6286047698142054\n",
      "Epoch [4/100], Loss: 0.2052, Validation Loss: 0.2080, F1: 0.42636359074715235, Compound Score: 0.6270848943473404\n",
      "Epoch [5/100], Loss: 0.2034, Validation Loss: 0.2078, F1: 0.43816172412062826, Compound Score: 0.633064352536816\n",
      "Epoch [6/100], Loss: 0.2014, Validation Loss: 0.2067, F1: 0.4345206733905364, Compound Score: 0.6315994702113511\n",
      "Epoch [7/100], Loss: 0.1996, Validation Loss: 0.2070, F1: 0.4285087059059662, Compound Score: 0.62849815570068\n",
      "Epoch [8/100], Loss: 0.1976, Validation Loss: 0.2080, F1: 0.42173653971599173, Compound Score: 0.6247917842259979\n",
      "Epoch [9/100], Loss: 0.1955, Validation Loss: 0.2070, F1: 0.4312534497466004, Compound Score: 0.6298755336163158\n",
      "Epoch [10/100], Loss: 0.1932, Validation Loss: 0.2070, F1: 0.44273577449947316, Compound Score: 0.6356103913205813\n",
      "Epoch [11/100], Loss: 0.1905, Validation Loss: 0.2075, F1: 0.4453726353555121, Compound Score: 0.6367681540423205\n",
      "Epoch [12/100], Loss: 0.1878, Validation Loss: 0.2090, F1: 0.43733598022981585, Compound Score: 0.632218832382706\n",
      "Epoch [13/100], Loss: 0.1848, Validation Loss: 0.2095, F1: 0.4319973405589844, Compound Score: 0.6293921764581061\n",
      "Epoch [14/100], Loss: 0.1818, Validation Loss: 0.2109, F1: 0.43221592904812084, Compound Score: 0.6290165764428204\n",
      "Epoch [15/100], Loss: 0.1786, Validation Loss: 0.2128, F1: 0.42790813638416375, Compound Score: 0.6262308683199145\n",
      "Epoch [16/100], Loss: 0.1753, Validation Loss: 0.2151, F1: 0.4319186236138291, Compound Score: 0.6274533893528814\n",
      "Epoch [17/100], Loss: 0.1721, Validation Loss: 0.2198, F1: 0.42428527522705606, Compound Score: 0.6220467026003371\n",
      "Epoch [18/100], Loss: 0.1687, Validation Loss: 0.2200, F1: 0.42105944854232524, Compound Score: 0.6203821552073003\n",
      "Epoch [19/100], Loss: 0.1656, Validation Loss: 0.2223, F1: 0.4191144186863365, Compound Score: 0.6186069110300791\n",
      "Epoch [20/100], Loss: 0.1622, Validation Loss: 0.2262, F1: 0.40676746199006475, Compound Score: 0.6111360630652438\n",
      "Epoch [21/100], Loss: 0.1591, Validation Loss: 0.2281, F1: 0.41764545386120727, Compound Score: 0.6159413975430811\n",
      "Early stopping triggered after 21 epochs.\n",
      "Best model restored.\n"
     ]
    },
    {
     "data": {
      "text/plain": "                                                title  \\\n0           The terrifying story of Charly the wizard   \n1                                Emberfall Chronicles   \n2                                 Blazepoint Protocol   \n3                                  The Silent Witness   \n4                                  The Quantum Thread   \n5                            Beneath the Hollow Manor   \n6                             Aunt Millies Robot Cafe   \n7                          Children of the Blackwoods   \n8                         Promise at the Edge of Dawn   \n9                                       Iron Meridian   \n10                                 Hunted by Midnight   \n11                          The Secret Heart of Paris   \n12                         Shadows Beneath the Bridge   \n13                           Whispers Under the Stars   \n14                          Chaos at the Wedding Bell   \n15                                       Neon Horizon   \n16                              Song of the Wilderkin   \n17                                  Echoes in the Fog   \n18                            The Enchanted Labyrinth   \n19                                   Dark Before Dawn   \n20                                    Echoes of Titan   \n21                               Deadpool & Wolverine   \n22                                           Twisters   \n23                                        Borderlands   \n24                                       Inside Out 2   \n25                             A Quiet Place: Day One   \n26                            Young Woman and the Sea   \n27                                               Trap   \n28                                             Cuckoo   \n29                                       The Watchers   \n30                                            Furiosa   \n31                                Blue Lock The Movie   \n32                                   Ultraman: Rising   \n33                              Bad Boys: Ride or Die   \n34                                     The Bikeriders   \n35                                 The Garfield Movie   \n36                     Galaxy Quest: Beyond the Stars   \n37                       Jurassic World: Lost Kingdom   \n38                          Titan: Rise of the Future   \n39                   Nightfall: A Detective’s Revenge   \n40                                  The Last Survivor   \n41                                    Quantum Shadows   \n42                          Legend of the Dark Forest   \n43                                  The Last Atlantis   \n44                                          Megastorm   \n45                                    The Arcane City   \n46               The unusual case of British Columbia   \n47  The story of Peyton Manning a Football Quarter...   \n48                             Terror in the basement   \n49                 Duty, Honor and Action, US Marines   \n50                         World War 2: A documentary   \n\n                                genres  \n0                     [comedy, horror]  \n1                  [action, adventure]  \n2                              [drama]  \n3                              [drama]  \n4                     [comedy, sci-fi]  \n5          [horror, mystery, thriller]  \n6                             [comedy]  \n7            [drama, horror, thriller]  \n8                              [drama]  \n9                             [horror]  \n10                            [horror]  \n11                             [drama]  \n12                             [drama]  \n13                             [drama]  \n14                            [comedy]  \n15                     [drama, sci-fi]  \n16                                  []  \n17  [drama, horror, mystery, thriller]  \n18                [adventure, fantasy]  \n19           [drama, horror, thriller]  \n20                             [drama]  \n21                    [action, sci-fi]  \n22                 [action, adventure]  \n23                                  []  \n24                            [comedy]  \n25                   [drama, thriller]  \n26                             [drama]  \n27                   [drama, thriller]  \n28                          [thriller]  \n29     [crime, drama, horror, mystery]  \n30                             [drama]  \n31                      [crime, drama]  \n32             [action, drama, sci-fi]  \n33                     [action, crime]  \n34                             [drama]  \n35      [adventure, animation, comedy]  \n36         [action, adventure, sci-fi]  \n37                 [action, adventure]  \n38         [action, adventure, sci-fi]  \n39                      [crime, drama]  \n40                 [action, adventure]  \n41                  [horror, thriller]  \n42                            [horror]  \n43                  [adventure, drama]  \n44                             [drama]  \n45                                  []  \n46                    [crime, mystery]  \n47                             [drama]  \n48                            [horror]  \n49                     [action, drama]  \n50                             [drama]  ",
      "text/html": "<div>\n<style scoped>\n    .dataframe tbody tr th:only-of-type {\n        vertical-align: middle;\n    }\n\n    .dataframe tbody tr th {\n        vertical-align: top;\n    }\n\n    .dataframe thead th {\n        text-align: right;\n    }\n</style>\n<table border=\"1\" class=\"dataframe\">\n  <thead>\n    <tr style=\"text-align: right;\">\n      <th></th>\n      <th>title</th>\n      <th>genres</th>\n    </tr>\n  </thead>\n  <tbody>\n    <tr>\n      <th>0</th>\n      <td>The terrifying story of Charly the wizard</td>\n      <td>[comedy, horror]</td>\n    </tr>\n    <tr>\n      <th>1</th>\n      <td>Emberfall Chronicles</td>\n      <td>[action, adventure]</td>\n    </tr>\n    <tr>\n      <th>2</th>\n      <td>Blazepoint Protocol</td>\n      <td>[drama]</td>\n    </tr>\n    <tr>\n      <th>3</th>\n      <td>The Silent Witness</td>\n      <td>[drama]</td>\n    </tr>\n    <tr>\n      <th>4</th>\n      <td>The Quantum Thread</td>\n      <td>[comedy, sci-fi]</td>\n    </tr>\n    <tr>\n      <th>5</th>\n      <td>Beneath the Hollow Manor</td>\n      <td>[horror, mystery, thriller]</td>\n    </tr>\n    <tr>\n      <th>6</th>\n      <td>Aunt Millies Robot Cafe</td>\n      <td>[comedy]</td>\n    </tr>\n    <tr>\n      <th>7</th>\n      <td>Children of the Blackwoods</td>\n      <td>[drama, horror, thriller]</td>\n    </tr>\n    <tr>\n      <th>8</th>\n      <td>Promise at the Edge of Dawn</td>\n      <td>[drama]</td>\n    </tr>\n    <tr>\n      <th>9</th>\n      <td>Iron Meridian</td>\n      <td>[horror]</td>\n    </tr>\n    <tr>\n      <th>10</th>\n      <td>Hunted by Midnight</td>\n      <td>[horror]</td>\n    </tr>\n    <tr>\n      <th>11</th>\n      <td>The Secret Heart of Paris</td>\n      <td>[drama]</td>\n    </tr>\n    <tr>\n      <th>12</th>\n      <td>Shadows Beneath the Bridge</td>\n      <td>[drama]</td>\n    </tr>\n    <tr>\n      <th>13</th>\n      <td>Whispers Under the Stars</td>\n      <td>[drama]</td>\n    </tr>\n    <tr>\n      <th>14</th>\n      <td>Chaos at the Wedding Bell</td>\n      <td>[comedy]</td>\n    </tr>\n    <tr>\n      <th>15</th>\n      <td>Neon Horizon</td>\n      <td>[drama, sci-fi]</td>\n    </tr>\n    <tr>\n      <th>16</th>\n      <td>Song of the Wilderkin</td>\n      <td>[]</td>\n    </tr>\n    <tr>\n      <th>17</th>\n      <td>Echoes in the Fog</td>\n      <td>[drama, horror, mystery, thriller]</td>\n    </tr>\n    <tr>\n      <th>18</th>\n      <td>The Enchanted Labyrinth</td>\n      <td>[adventure, fantasy]</td>\n    </tr>\n    <tr>\n      <th>19</th>\n      <td>Dark Before Dawn</td>\n      <td>[drama, horror, thriller]</td>\n    </tr>\n    <tr>\n      <th>20</th>\n      <td>Echoes of Titan</td>\n      <td>[drama]</td>\n    </tr>\n    <tr>\n      <th>21</th>\n      <td>Deadpool &amp; Wolverine</td>\n      <td>[action, sci-fi]</td>\n    </tr>\n    <tr>\n      <th>22</th>\n      <td>Twisters</td>\n      <td>[action, adventure]</td>\n    </tr>\n    <tr>\n      <th>23</th>\n      <td>Borderlands</td>\n      <td>[]</td>\n    </tr>\n    <tr>\n      <th>24</th>\n      <td>Inside Out 2</td>\n      <td>[comedy]</td>\n    </tr>\n    <tr>\n      <th>25</th>\n      <td>A Quiet Place: Day One</td>\n      <td>[drama, thriller]</td>\n    </tr>\n    <tr>\n      <th>26</th>\n      <td>Young Woman and the Sea</td>\n      <td>[drama]</td>\n    </tr>\n    <tr>\n      <th>27</th>\n      <td>Trap</td>\n      <td>[drama, thriller]</td>\n    </tr>\n    <tr>\n      <th>28</th>\n      <td>Cuckoo</td>\n      <td>[thriller]</td>\n    </tr>\n    <tr>\n      <th>29</th>\n      <td>The Watchers</td>\n      <td>[crime, drama, horror, mystery]</td>\n    </tr>\n    <tr>\n      <th>30</th>\n      <td>Furiosa</td>\n      <td>[drama]</td>\n    </tr>\n    <tr>\n      <th>31</th>\n      <td>Blue Lock The Movie</td>\n      <td>[crime, drama]</td>\n    </tr>\n    <tr>\n      <th>32</th>\n      <td>Ultraman: Rising</td>\n      <td>[action, drama, sci-fi]</td>\n    </tr>\n    <tr>\n      <th>33</th>\n      <td>Bad Boys: Ride or Die</td>\n      <td>[action, crime]</td>\n    </tr>\n    <tr>\n      <th>34</th>\n      <td>The Bikeriders</td>\n      <td>[drama]</td>\n    </tr>\n    <tr>\n      <th>35</th>\n      <td>The Garfield Movie</td>\n      <td>[adventure, animation, comedy]</td>\n    </tr>\n    <tr>\n      <th>36</th>\n      <td>Galaxy Quest: Beyond the Stars</td>\n      <td>[action, adventure, sci-fi]</td>\n    </tr>\n    <tr>\n      <th>37</th>\n      <td>Jurassic World: Lost Kingdom</td>\n      <td>[action, adventure]</td>\n    </tr>\n    <tr>\n      <th>38</th>\n      <td>Titan: Rise of the Future</td>\n      <td>[action, adventure, sci-fi]</td>\n    </tr>\n    <tr>\n      <th>39</th>\n      <td>Nightfall: A Detective’s Revenge</td>\n      <td>[crime, drama]</td>\n    </tr>\n    <tr>\n      <th>40</th>\n      <td>The Last Survivor</td>\n      <td>[action, adventure]</td>\n    </tr>\n    <tr>\n      <th>41</th>\n      <td>Quantum Shadows</td>\n      <td>[horror, thriller]</td>\n    </tr>\n    <tr>\n      <th>42</th>\n      <td>Legend of the Dark Forest</td>\n      <td>[horror]</td>\n    </tr>\n    <tr>\n      <th>43</th>\n      <td>The Last Atlantis</td>\n      <td>[adventure, drama]</td>\n    </tr>\n    <tr>\n      <th>44</th>\n      <td>Megastorm</td>\n      <td>[drama]</td>\n    </tr>\n    <tr>\n      <th>45</th>\n      <td>The Arcane City</td>\n      <td>[]</td>\n    </tr>\n    <tr>\n      <th>46</th>\n      <td>The unusual case of British Columbia</td>\n      <td>[crime, mystery]</td>\n    </tr>\n    <tr>\n      <th>47</th>\n      <td>The story of Peyton Manning a Football Quarter...</td>\n      <td>[drama]</td>\n    </tr>\n    <tr>\n      <th>48</th>\n      <td>Terror in the basement</td>\n      <td>[horror]</td>\n    </tr>\n    <tr>\n      <th>49</th>\n      <td>Duty, Honor and Action, US Marines</td>\n      <td>[action, drama]</td>\n    </tr>\n    <tr>\n      <th>50</th>\n      <td>World War 2: A documentary</td>\n      <td>[drama]</td>\n    </tr>\n  </tbody>\n</table>\n</div>"
     },
     "execution_count": 1,
     "metadata": {},
     "output_type": "execute_result"
    }
   ],
   "source": [
    "import json\n",
    "import pandas as pd\n",
    "from torch import tensor, float32, no_grad\n",
    "from sentence_transformers import SentenceTransformer\n",
    "from movie_detector.ml.neural_network import GenreClassifier, train_model\n",
    "from torch.utils.data import TensorDataset, DataLoader\n",
    "from torch.optim import Adam\n",
    "from torch.nn import BCELoss\n",
    "\n",
    "BATCH_SIZE = 32\n",
    "THRESHOLD = 0.4\n",
    "WEIGHT_DECAY = 1e-6\n",
    "LR = 0.001\n",
    "\n",
    "with open('../data/examples/example_movie_titles.json', 'r') as f:\n",
    "    test_titles = json.load(f)['test_titles']\n",
    "\n",
    "sentence_transformer = SentenceTransformer('all-MiniLM-L6-v2')\n",
    "embedding_example = sentence_transformer.encode(test_titles)\n",
    "embedding_example_tensor = tensor(embedding_example, dtype=float32)\n",
    "\n",
    "X_train_df = pd.read_csv('../data/processed/X_train.csv')\n",
    "y_train_df = pd.read_csv('../data/processed/y_train.csv')\n",
    "X_val_df = pd.read_csv('../data/processed/X_val.csv')\n",
    "y_val_df = pd.read_csv('../data/processed/y_val.csv')\n",
    "X_test_df = pd.read_csv('../data/processed/X_test.csv')\n",
    "y_test_df = pd.read_csv('../data/processed/y_test.csv')\n",
    "\n",
    "movie_titles_y_train = y_train_df.pop('title')\n",
    "movie_titles_y_test = y_test_df.pop('title')\n",
    "movie_titles_y_val = y_val_df.pop('title')\n",
    "\n",
    "X_train_tensor = tensor(X_train_df.values, dtype=float32)\n",
    "y_train_tensor = tensor(y_train_df.values, dtype=float32)\n",
    "X_val_tensor = tensor(X_val_df.values, dtype=float32)\n",
    "y_val_tensor = tensor(y_val_df.values, dtype=float32)\n",
    "X_test_tensor = tensor(X_test_df.values, dtype=float32)\n",
    "y_test_tensor = tensor(y_test_df.values, dtype=float32)\n",
    "\n",
    "train_dataset = TensorDataset(X_train_tensor, y_train_tensor)\n",
    "train_loader = DataLoader(train_dataset, batch_size=BATCH_SIZE, shuffle=True)\n",
    "\n",
    "val_dataset = TensorDataset(X_val_tensor, y_val_tensor)\n",
    "val_loader = DataLoader(val_dataset, batch_size=BATCH_SIZE)\n",
    "\n",
    "input_dim = X_train_df.shape[1]\n",
    "num_labels = y_train_df.shape[1]\n",
    "print('input_dim:', input_dim, 'num_labels:', num_labels)\n",
    "\n",
    "model = GenreClassifier(\n",
    "    input_dim=input_dim, \n",
    "    output_dim=num_labels,\n",
    "    hidden_layer_1=256,\n",
    "    hidden_layer_2=96\n",
    ")\n",
    "criterion = BCELoss()\n",
    "optimizer = Adam(model.parameters(), lr=LR, weight_decay=WEIGHT_DECAY)\n",
    "train_model(\n",
    "    model,\n",
    "    criterion=criterion,\n",
    "    optimizer=optimizer,\n",
    "    train_loader=train_loader, \n",
    "    val_loader=val_loader, \n",
    "    epochs=100,\n",
    "    threshold=THRESHOLD\n",
    ")\n",
    "\n",
    "with no_grad():\n",
    "    prediction = model(embedding_example_tensor)  \n",
    "    \n",
    "test_predictions_percentage = prediction * 100\n",
    "\n",
    "test_predictions_df = pd.DataFrame(test_predictions_percentage.numpy(), columns=y_train_df.columns)\n",
    "\n",
    "test_predictions_df['title'] = test_titles\n",
    "\n",
    "test_predictions_df['genres'] = test_predictions_df.apply(\n",
    "    lambda row: [col for col in y_train_df.columns if row[col] > THRESHOLD*100],\n",
    "    axis=1\n",
    ")\n",
    "\n",
    "test_predictions_df[['title', 'genres']]"
   ],
   "metadata": {
    "collapsed": false,
    "ExecuteTime": {
     "end_time": "2024-11-15T11:43:35.902089Z",
     "start_time": "2024-11-15T11:43:10.828532Z"
    }
   },
   "id": "9bd2efa3691bcc2a",
   "execution_count": 1
  },
  {
   "cell_type": "code",
   "outputs": [
    {
     "data": {
      "text/plain": "{'The terrifying story of Charly the wizard': [0,\n  0,\n  0,\n  0,\n  0,\n  1,\n  0,\n  0,\n  0,\n  0,\n  0,\n  0,\n  0,\n  1,\n  0,\n  0,\n  0,\n  0,\n  0,\n  0,\n  0,\n  0,\n  0,\n  0,\n  0],\n 'Emberfall Chronicles': [1,\n  0,\n  1,\n  0,\n  0,\n  0,\n  0,\n  0,\n  0,\n  0,\n  0,\n  0,\n  0,\n  0,\n  0,\n  0,\n  0,\n  0,\n  0,\n  0,\n  0,\n  0,\n  0,\n  0,\n  0],\n 'Blazepoint Protocol': [0,\n  0,\n  0,\n  0,\n  0,\n  0,\n  0,\n  0,\n  1,\n  0,\n  0,\n  0,\n  0,\n  0,\n  0,\n  0,\n  0,\n  0,\n  0,\n  0,\n  0,\n  0,\n  0,\n  0,\n  0],\n 'The Silent Witness': [0,\n  0,\n  0,\n  0,\n  0,\n  0,\n  0,\n  0,\n  1,\n  0,\n  0,\n  0,\n  0,\n  0,\n  0,\n  0,\n  0,\n  0,\n  0,\n  0,\n  0,\n  0,\n  0,\n  0,\n  0],\n 'The Quantum Thread': [0,\n  0,\n  0,\n  0,\n  0,\n  1,\n  0,\n  0,\n  0,\n  0,\n  0,\n  0,\n  0,\n  0,\n  0,\n  0,\n  0,\n  0,\n  0,\n  0,\n  1,\n  0,\n  0,\n  0,\n  0],\n 'Beneath the Hollow Manor': [0,\n  0,\n  0,\n  0,\n  0,\n  0,\n  0,\n  0,\n  0,\n  0,\n  0,\n  0,\n  0,\n  1,\n  0,\n  0,\n  1,\n  0,\n  0,\n  0,\n  0,\n  0,\n  1,\n  0,\n  0],\n 'Aunt Millies Robot Cafe': [0,\n  0,\n  0,\n  0,\n  0,\n  1,\n  0,\n  0,\n  0,\n  0,\n  0,\n  0,\n  0,\n  0,\n  0,\n  0,\n  0,\n  0,\n  0,\n  0,\n  0,\n  0,\n  0,\n  0,\n  0],\n 'Children of the Blackwoods': [0,\n  0,\n  0,\n  0,\n  0,\n  0,\n  0,\n  0,\n  1,\n  0,\n  0,\n  0,\n  0,\n  1,\n  0,\n  0,\n  0,\n  0,\n  0,\n  0,\n  0,\n  0,\n  1,\n  0,\n  0],\n 'Promise at the Edge of Dawn': [0,\n  0,\n  0,\n  0,\n  0,\n  0,\n  0,\n  0,\n  1,\n  0,\n  0,\n  0,\n  0,\n  0,\n  0,\n  0,\n  0,\n  0,\n  0,\n  0,\n  0,\n  0,\n  0,\n  0,\n  0],\n 'Iron Meridian': [0,\n  0,\n  0,\n  0,\n  0,\n  0,\n  0,\n  0,\n  0,\n  0,\n  0,\n  0,\n  0,\n  1,\n  0,\n  0,\n  0,\n  0,\n  0,\n  0,\n  0,\n  0,\n  0,\n  0,\n  0],\n 'Hunted by Midnight': [0,\n  0,\n  0,\n  0,\n  0,\n  0,\n  0,\n  0,\n  0,\n  0,\n  0,\n  0,\n  0,\n  1,\n  0,\n  0,\n  0,\n  0,\n  0,\n  0,\n  0,\n  0,\n  0,\n  0,\n  0],\n 'The Secret Heart of Paris': [0,\n  0,\n  0,\n  0,\n  0,\n  0,\n  0,\n  0,\n  1,\n  0,\n  0,\n  0,\n  0,\n  0,\n  0,\n  0,\n  0,\n  0,\n  0,\n  0,\n  0,\n  0,\n  0,\n  0,\n  0],\n 'Shadows Beneath the Bridge': [0,\n  0,\n  0,\n  0,\n  0,\n  0,\n  0,\n  0,\n  1,\n  0,\n  0,\n  0,\n  0,\n  0,\n  0,\n  0,\n  0,\n  0,\n  0,\n  0,\n  0,\n  0,\n  0,\n  0,\n  0],\n 'Whispers Under the Stars': [0,\n  0,\n  0,\n  0,\n  0,\n  0,\n  0,\n  0,\n  1,\n  0,\n  0,\n  0,\n  0,\n  0,\n  0,\n  0,\n  0,\n  0,\n  0,\n  0,\n  0,\n  0,\n  0,\n  0,\n  0],\n 'Chaos at the Wedding Bell': [0,\n  0,\n  0,\n  0,\n  0,\n  1,\n  0,\n  0,\n  0,\n  0,\n  0,\n  0,\n  0,\n  0,\n  0,\n  0,\n  0,\n  0,\n  0,\n  0,\n  0,\n  0,\n  0,\n  0,\n  0],\n 'Neon Horizon': [0,\n  0,\n  0,\n  0,\n  0,\n  0,\n  0,\n  0,\n  1,\n  0,\n  0,\n  0,\n  0,\n  0,\n  0,\n  0,\n  0,\n  0,\n  0,\n  0,\n  1,\n  0,\n  0,\n  0,\n  0],\n 'Song of the Wilderkin': [0,\n  0,\n  0,\n  0,\n  0,\n  0,\n  0,\n  0,\n  0,\n  0,\n  0,\n  0,\n  0,\n  0,\n  0,\n  0,\n  0,\n  0,\n  0,\n  0,\n  0,\n  0,\n  0,\n  0,\n  0],\n 'Echoes in the Fog': [0,\n  0,\n  0,\n  0,\n  0,\n  0,\n  0,\n  0,\n  1,\n  0,\n  0,\n  0,\n  0,\n  1,\n  0,\n  0,\n  1,\n  0,\n  0,\n  0,\n  0,\n  0,\n  1,\n  0,\n  0],\n 'The Enchanted Labyrinth': [0,\n  0,\n  1,\n  0,\n  0,\n  0,\n  0,\n  0,\n  0,\n  0,\n  1,\n  0,\n  0,\n  0,\n  0,\n  0,\n  0,\n  0,\n  0,\n  0,\n  0,\n  0,\n  0,\n  0,\n  0],\n 'Dark Before Dawn': [0,\n  0,\n  0,\n  0,\n  0,\n  0,\n  0,\n  0,\n  1,\n  0,\n  0,\n  0,\n  0,\n  1,\n  0,\n  0,\n  0,\n  0,\n  0,\n  0,\n  0,\n  0,\n  1,\n  0,\n  0],\n 'Echoes of Titan': [0,\n  0,\n  0,\n  0,\n  0,\n  0,\n  0,\n  0,\n  1,\n  0,\n  0,\n  0,\n  0,\n  0,\n  0,\n  0,\n  0,\n  0,\n  0,\n  0,\n  0,\n  0,\n  0,\n  0,\n  0],\n 'Deadpool & Wolverine': [1,\n  0,\n  0,\n  0,\n  0,\n  0,\n  0,\n  0,\n  0,\n  0,\n  0,\n  0,\n  0,\n  0,\n  0,\n  0,\n  0,\n  0,\n  0,\n  0,\n  1,\n  0,\n  0,\n  0,\n  0],\n 'Twisters': [1,\n  0,\n  1,\n  0,\n  0,\n  0,\n  0,\n  0,\n  0,\n  0,\n  0,\n  0,\n  0,\n  0,\n  0,\n  0,\n  0,\n  0,\n  0,\n  0,\n  0,\n  0,\n  0,\n  0,\n  0],\n 'Borderlands': [0,\n  0,\n  0,\n  0,\n  0,\n  0,\n  0,\n  0,\n  0,\n  0,\n  0,\n  0,\n  0,\n  0,\n  0,\n  0,\n  0,\n  0,\n  0,\n  0,\n  0,\n  0,\n  0,\n  0,\n  0],\n 'Inside Out 2': [0,\n  0,\n  0,\n  0,\n  0,\n  1,\n  0,\n  0,\n  0,\n  0,\n  0,\n  0,\n  0,\n  0,\n  0,\n  0,\n  0,\n  0,\n  0,\n  0,\n  0,\n  0,\n  0,\n  0,\n  0],\n 'A Quiet Place: Day One': [0,\n  0,\n  0,\n  0,\n  0,\n  0,\n  0,\n  0,\n  1,\n  0,\n  0,\n  0,\n  0,\n  0,\n  0,\n  0,\n  0,\n  0,\n  0,\n  0,\n  0,\n  0,\n  1,\n  0,\n  0],\n 'Young Woman and the Sea': [0,\n  0,\n  0,\n  0,\n  0,\n  0,\n  0,\n  0,\n  1,\n  0,\n  0,\n  0,\n  0,\n  0,\n  0,\n  0,\n  0,\n  0,\n  0,\n  0,\n  0,\n  0,\n  0,\n  0,\n  0],\n 'Trap': [0,\n  0,\n  0,\n  0,\n  0,\n  0,\n  0,\n  0,\n  1,\n  0,\n  0,\n  0,\n  0,\n  0,\n  0,\n  0,\n  0,\n  0,\n  0,\n  0,\n  0,\n  0,\n  1,\n  0,\n  0],\n 'Cuckoo': [0,\n  0,\n  0,\n  0,\n  0,\n  0,\n  0,\n  0,\n  0,\n  0,\n  0,\n  0,\n  0,\n  0,\n  0,\n  0,\n  0,\n  0,\n  0,\n  0,\n  0,\n  0,\n  1,\n  0,\n  0],\n 'The Watchers': [0,\n  0,\n  0,\n  0,\n  0,\n  0,\n  1,\n  0,\n  1,\n  0,\n  0,\n  0,\n  0,\n  1,\n  0,\n  0,\n  1,\n  0,\n  0,\n  0,\n  0,\n  0,\n  0,\n  0,\n  0],\n 'Furiosa': [0,\n  0,\n  0,\n  0,\n  0,\n  0,\n  0,\n  0,\n  1,\n  0,\n  0,\n  0,\n  0,\n  0,\n  0,\n  0,\n  0,\n  0,\n  0,\n  0,\n  0,\n  0,\n  0,\n  0,\n  0],\n 'Blue Lock The Movie': [0,\n  0,\n  0,\n  0,\n  0,\n  0,\n  1,\n  0,\n  1,\n  0,\n  0,\n  0,\n  0,\n  0,\n  0,\n  0,\n  0,\n  0,\n  0,\n  0,\n  0,\n  0,\n  0,\n  0,\n  0],\n 'Ultraman: Rising': [1,\n  0,\n  0,\n  0,\n  0,\n  0,\n  0,\n  0,\n  1,\n  0,\n  0,\n  0,\n  0,\n  0,\n  0,\n  0,\n  0,\n  0,\n  0,\n  0,\n  1,\n  0,\n  0,\n  0,\n  0],\n 'Bad Boys: Ride or Die': [1,\n  0,\n  0,\n  0,\n  0,\n  0,\n  1,\n  0,\n  0,\n  0,\n  0,\n  0,\n  0,\n  0,\n  0,\n  0,\n  0,\n  0,\n  0,\n  0,\n  0,\n  0,\n  0,\n  0,\n  0],\n 'The Bikeriders': [0,\n  0,\n  0,\n  0,\n  0,\n  0,\n  0,\n  0,\n  1,\n  0,\n  0,\n  0,\n  0,\n  0,\n  0,\n  0,\n  0,\n  0,\n  0,\n  0,\n  0,\n  0,\n  0,\n  0,\n  0],\n 'The Garfield Movie': [0,\n  0,\n  1,\n  1,\n  0,\n  1,\n  0,\n  0,\n  0,\n  0,\n  0,\n  0,\n  0,\n  0,\n  0,\n  0,\n  0,\n  0,\n  0,\n  0,\n  0,\n  0,\n  0,\n  0,\n  0],\n 'Galaxy Quest: Beyond the Stars': [1,\n  0,\n  1,\n  0,\n  0,\n  0,\n  0,\n  0,\n  0,\n  0,\n  0,\n  0,\n  0,\n  0,\n  0,\n  0,\n  0,\n  0,\n  0,\n  0,\n  1,\n  0,\n  0,\n  0,\n  0],\n 'Jurassic World: Lost Kingdom': [1,\n  0,\n  1,\n  0,\n  0,\n  0,\n  0,\n  0,\n  0,\n  0,\n  0,\n  0,\n  0,\n  0,\n  0,\n  0,\n  0,\n  0,\n  0,\n  0,\n  0,\n  0,\n  0,\n  0,\n  0],\n 'Titan: Rise of the Future': [1,\n  0,\n  1,\n  0,\n  0,\n  0,\n  0,\n  0,\n  0,\n  0,\n  0,\n  0,\n  0,\n  0,\n  0,\n  0,\n  0,\n  0,\n  0,\n  0,\n  1,\n  0,\n  0,\n  0,\n  0],\n 'Nightfall: A Detective’s Revenge': [0,\n  0,\n  0,\n  0,\n  0,\n  0,\n  1,\n  0,\n  1,\n  0,\n  0,\n  0,\n  0,\n  0,\n  0,\n  0,\n  0,\n  0,\n  0,\n  0,\n  0,\n  0,\n  0,\n  0,\n  0],\n 'The Last Survivor': [1,\n  0,\n  1,\n  0,\n  0,\n  0,\n  0,\n  0,\n  0,\n  0,\n  0,\n  0,\n  0,\n  0,\n  0,\n  0,\n  0,\n  0,\n  0,\n  0,\n  0,\n  0,\n  0,\n  0,\n  0],\n 'Quantum Shadows': [0,\n  0,\n  0,\n  0,\n  0,\n  0,\n  0,\n  0,\n  0,\n  0,\n  0,\n  0,\n  0,\n  1,\n  0,\n  0,\n  0,\n  0,\n  0,\n  0,\n  0,\n  0,\n  1,\n  0,\n  0],\n 'Legend of the Dark Forest': [0,\n  0,\n  0,\n  0,\n  0,\n  0,\n  0,\n  0,\n  0,\n  0,\n  0,\n  0,\n  0,\n  1,\n  0,\n  0,\n  0,\n  0,\n  0,\n  0,\n  0,\n  0,\n  0,\n  0,\n  0],\n 'The Last Atlantis': [0,\n  0,\n  1,\n  0,\n  0,\n  0,\n  0,\n  0,\n  1,\n  0,\n  0,\n  0,\n  0,\n  0,\n  0,\n  0,\n  0,\n  0,\n  0,\n  0,\n  0,\n  0,\n  0,\n  0,\n  0],\n 'Megastorm': [0,\n  0,\n  0,\n  0,\n  0,\n  0,\n  0,\n  0,\n  1,\n  0,\n  0,\n  0,\n  0,\n  0,\n  0,\n  0,\n  0,\n  0,\n  0,\n  0,\n  0,\n  0,\n  0,\n  0,\n  0],\n 'The Arcane City': [0,\n  0,\n  0,\n  0,\n  0,\n  0,\n  0,\n  0,\n  0,\n  0,\n  0,\n  0,\n  0,\n  0,\n  0,\n  0,\n  0,\n  0,\n  0,\n  0,\n  0,\n  0,\n  0,\n  0,\n  0],\n 'The unusual case of British Columbia': [0,\n  0,\n  0,\n  0,\n  0,\n  0,\n  1,\n  0,\n  0,\n  0,\n  0,\n  0,\n  0,\n  0,\n  0,\n  0,\n  1,\n  0,\n  0,\n  0,\n  0,\n  0,\n  0,\n  0,\n  0],\n 'The story of Peyton Manning a Football Quarterback, now and then': [0,\n  0,\n  0,\n  0,\n  0,\n  0,\n  0,\n  0,\n  1,\n  0,\n  0,\n  0,\n  0,\n  0,\n  0,\n  0,\n  0,\n  0,\n  0,\n  0,\n  0,\n  0,\n  0,\n  0,\n  0],\n 'Terror in the basement': [0,\n  0,\n  0,\n  0,\n  0,\n  0,\n  0,\n  0,\n  0,\n  0,\n  0,\n  0,\n  0,\n  1,\n  0,\n  0,\n  0,\n  0,\n  0,\n  0,\n  0,\n  0,\n  0,\n  0,\n  0],\n 'Duty, Honor and Action, US Marines': [1,\n  0,\n  0,\n  0,\n  0,\n  0,\n  0,\n  0,\n  1,\n  0,\n  0,\n  0,\n  0,\n  0,\n  0,\n  0,\n  0,\n  0,\n  0,\n  0,\n  0,\n  0,\n  0,\n  0,\n  0],\n 'World War 2: A documentary': [0,\n  0,\n  0,\n  0,\n  0,\n  0,\n  0,\n  0,\n  1,\n  0,\n  0,\n  0,\n  0,\n  0,\n  0,\n  0,\n  0,\n  0,\n  0,\n  0,\n  0,\n  0,\n  0,\n  0,\n  0]}"
     },
     "execution_count": 10,
     "metadata": {},
     "output_type": "execute_result"
    }
   ],
   "source": [
    "{t:p.tolist() for t,p in zip(test_titles,(prediction>0.4).int())}"
   ],
   "metadata": {
    "collapsed": false,
    "ExecuteTime": {
     "end_time": "2024-11-15T11:46:05.480496Z",
     "start_time": "2024-11-15T11:46:05.466771Z"
    }
   },
   "id": "626f0c07a8fc96d6",
   "execution_count": 10
  },
  {
   "cell_type": "code",
   "outputs": [],
   "source": [],
   "metadata": {
    "collapsed": false,
    "ExecuteTime": {
     "end_time": "2024-11-15T11:44:19.388313Z",
     "start_time": "2024-11-15T11:44:19.386452Z"
    }
   },
   "id": "169a75da9c3c1c12",
   "execution_count": 5
  },
  {
   "cell_type": "code",
   "outputs": [],
   "source": [],
   "metadata": {
    "collapsed": false
   },
   "id": "43b96e6be349ce8a"
  }
 ],
 "metadata": {
  "kernelspec": {
   "display_name": "Python 3",
   "language": "python",
   "name": "python3"
  },
  "language_info": {
   "codemirror_mode": {
    "name": "ipython",
    "version": 2
   },
   "file_extension": ".py",
   "mimetype": "text/x-python",
   "name": "python",
   "nbconvert_exporter": "python",
   "pygments_lexer": "ipython2",
   "version": "2.7.6"
  }
 },
 "nbformat": 4,
 "nbformat_minor": 5
}
